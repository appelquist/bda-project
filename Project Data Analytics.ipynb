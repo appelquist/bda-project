{
 "cells": [
  {
   "cell_type": "code",
   "execution_count": 282,
   "id": "590eb1c3",
   "metadata": {},
   "outputs": [],
   "source": [
    "import pandas as pd\n",
    "import numpy as np\n",
    "import matplotlib.pyplot as plt\n",
    "\n"
   ]
  },
  {
   "cell_type": "code",
   "execution_count": 283,
   "id": "eab92ab2",
   "metadata": {},
   "outputs": [],
   "source": [
    "answers = pd.read_csv('./data/Answer.csv')\n",
    "survey_2020 = pd.read_csv('./data/2020-survey.csv')\n",
    "correct_columns = [1, 2, 3, 5, 6, 7, 8, 9, 13, 17, 18, 19, 30, 32, 33, 34, 93, 97, 99, 100, 117, 118]"
   ]
  },
  {
   "cell_type": "code",
   "execution_count": 284,
   "id": "092ad4fb",
   "metadata": {},
   "outputs": [],
   "source": [
    "unused_questions_removed = survey_2020.columns[survey_2020.columns.str.startswith('q')]\n",
    "survey_2020 = survey_2020[unused_questions_removed]\n"
   ]
  },
  {
   "cell_type": "markdown",
   "id": "304c8de0",
   "metadata": {},
   "source": [
    "## Filter out unrelevant questions"
   ]
  },
  {
   "cell_type": "code",
   "execution_count": 286,
   "id": "f84919ec",
   "metadata": {},
   "outputs": [],
   "source": [
    "answers = answers[answers['QuestionID'].isin(correct_columns)]"
   ]
  },
  {
   "cell_type": "markdown",
   "id": "0497b3e8",
   "metadata": {},
   "source": [
    "## Create survey DataFrame\n",
    "\n",
    "We want a data frame where each row will represent one users answers to one survey. We create a empty DataFrame and fill it out with one row for each unique UserID found in the answers table."
   ]
  },
  {
   "cell_type": "code",
   "execution_count": 287,
   "id": "78b8cbf0",
   "metadata": {},
   "outputs": [],
   "source": [
    "surveys = pd.DataFrame(columns=['q1', 'q2', 'q3', 'q5', 'q6', 'q7', 'q8', 'q9', 'q13', 'q17', 'q18', 'q19', 'q30', 'q32', 'q33', 'q34', 'q93', 'q97', 'q99', 'q100', 'q117', 'q118' 'Year'])\n",
    "user_ids = answers['UserID'].unique()\n",
    "surveys['UserID'] = user_ids"
   ]
  },
  {
   "cell_type": "markdown",
   "id": "5cf83a2a",
   "metadata": {},
   "source": [
    "In order to fill out the survey DataFrame we have to iterate through each row in the answers table and set the values in the corresponding row in surveys."
   ]
  },
  {
   "cell_type": "code",
   "execution_count": 290,
   "id": "0c2a348e",
   "metadata": {},
   "outputs": [],
   "source": [
    "for answer in answers.iterrows():\n",
    "    user_id = answer[1][2]\n",
    "    question_id = 'q' + str(answer[1][3])\n",
    "    answer_text = answer[1][0]\n",
    "    year = answer[1][1]\n",
    "    surveys.at[user_id - 1, question_id] = answer_text\n",
    "    surveys.at[user_id - 1, 'Year'] = year\n",
    "        \n",
    "    "
   ]
  },
  {
   "cell_type": "markdown",
   "id": "021cc542",
   "metadata": {},
   "source": [
    "Some questions are very similar but does only exists in some years, we choose to combine these questions."
   ]
  },
  {
   "cell_type": "code",
   "execution_count": 291,
   "id": "263958f3",
   "metadata": {},
   "outputs": [],
   "source": [
    "surveys['q17'] = surveys['q17'].combine_first(surveys['q97'])\n",
    "surveys['q18'] = surveys['q18'].combine_first(surveys['q99'])\n",
    "surveys['q19'] = surveys['q19'].combine_first(surveys['q100'])\n",
    "\n",
    "surveys = surveys.drop(['q97', 'q99', 'q100'], axis = 1)\n"
   ]
  },
  {
   "cell_type": "markdown",
   "id": "9f5e8898",
   "metadata": {},
   "source": [
    "## Pre process 2020 survey\n",
    "In order to concat the 2020 survey to our surveys DataFrame we have to do some pre processing."
   ]
  },
  {
   "cell_type": "code",
   "execution_count": 292,
   "id": "668140fe",
   "metadata": {},
   "outputs": [],
   "source": [
    "survey_2020 = survey_2020[['q1', 'q2', 'q3', 'q5', 'q6', 'q7', 'q8', 'q9', 'q13', 'q17', 'q18', 'q19', 'q30', 'q32', 'q33', 'q34']]\n"
   ]
  },
  {
   "cell_type": "markdown",
   "id": "d826be5e",
   "metadata": {},
   "source": [
    "## Negative age values\n",
    "Some age values are negative, there fore those entries will be changed to positive."
   ]
  },
  {
   "cell_type": "code",
   "execution_count": 305,
   "id": "b5f876a7",
   "metadata": {},
   "outputs": [],
   "source": [
    "surveys['q1'] = surveys['q1'].str.replace('-','')"
   ]
  },
  {
   "cell_type": "markdown",
   "id": "67926bfe",
   "metadata": {},
   "source": [
    "## Plot mental health issues for males and females\n",
    "\n",
    "Att göra: Lowercase på alla genders, allt som inte är male eller female ska bli other eller tas bort."
   ]
  },
  {
   "cell_type": "code",
   "execution_count": 331,
   "id": "1aa2f13a",
   "metadata": {},
   "outputs": [
    {
     "data": {
      "text/plain": [
       "3587                    Nonbinary\n",
       "3744                       Female\n",
       "2400                      Unicorn\n",
       "3910                         Male\n",
       "350                          Male\n",
       "2747                         male\n",
       "1545                         Male\n",
       "1713                         Male\n",
       "1722                         Male\n",
       "1145                       Female\n",
       "1031                         Male\n",
       "3593    Male (or female, or both)\n",
       "466                          Male\n",
       "3811                         Male\n",
       "3463                       female\n",
       "76                           Male\n",
       "2264             Male/genderqueer\n",
       "3092                         Male\n",
       "3685                         Male\n",
       "1284                         Male\n",
       "Name: q2, dtype: object"
      ]
     },
     "execution_count": 331,
     "metadata": {},
     "output_type": "execute_result"
    }
   ],
   "source": [
    "surveys['q2'].sample(20)"
   ]
  },
  {
   "cell_type": "code",
   "execution_count": null,
   "id": "0c025b9c",
   "metadata": {},
   "outputs": [],
   "source": [
    "data = {'Gender': ['Male','Female', 'Other'],\n",
    "        'GDP_Per_Capita': [45000,42000,52000,49000,47000]\n",
    "       }\n",
    "  \n",
    "df = pd.DataFrame(data,columns=['Country','GDP_Per_Capita'])\n",
    "df.plot(x ='Country', y='GDP_Per_Capita', kind = 'bar')\n",
    "plt.show()"
   ]
  }
 ],
 "metadata": {
  "kernelspec": {
   "display_name": "Python 3",
   "language": "python",
   "name": "python3"
  },
  "language_info": {
   "codemirror_mode": {
    "name": "ipython",
    "version": 3
   },
   "file_extension": ".py",
   "mimetype": "text/x-python",
   "name": "python",
   "nbconvert_exporter": "python",
   "pygments_lexer": "ipython3",
   "version": "3.8.8"
  }
 },
 "nbformat": 4,
 "nbformat_minor": 5
}
