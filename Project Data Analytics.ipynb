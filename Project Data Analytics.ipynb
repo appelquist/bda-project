{
 "cells": [
  {
   "cell_type": "code",
   "execution_count": 1,
   "id": "590eb1c3",
   "metadata": {},
   "outputs": [],
   "source": [
    "import pandas as pd\n",
    "import numpy as np\n",
    "import matplotlib.pyplot as plt\n",
    "import seaborn as sns\n",
    "%matplotlib inline\n"
   ]
  },
  {
   "cell_type": "code",
   "execution_count": 2,
   "id": "eab92ab2",
   "metadata": {},
   "outputs": [],
   "source": [
    "answers = pd.read_csv('./data/Answer.csv')\n",
    "survey_2020 = pd.read_csv('./data/2020-survey.csv')\n",
    "correct_columns = [1, 2, 3, 5, 6, 7, 8, 9, 13, 17, 18, 19, 30, 32, 33, 34, 93, 97, 99, 100, 117, 118]"
   ]
  },
  {
   "cell_type": "code",
   "execution_count": 3,
   "id": "092ad4fb",
   "metadata": {},
   "outputs": [],
   "source": [
    "unused_questions_removed = survey_2020.columns[survey_2020.columns.str.startswith('q')]\n",
    "survey_2020 = survey_2020[unused_questions_removed]\n"
   ]
  },
  {
   "cell_type": "markdown",
   "id": "304c8de0",
   "metadata": {},
   "source": [
    "## Filter out unrelevant questions"
   ]
  },
  {
   "cell_type": "code",
   "execution_count": 4,
   "id": "f84919ec",
   "metadata": {},
   "outputs": [],
   "source": [
    "answers = answers[answers['QuestionID'].isin(correct_columns)]"
   ]
  },
  {
   "cell_type": "markdown",
   "id": "0497b3e8",
   "metadata": {},
   "source": [
    "## Create survey DataFrame\n",
    "\n",
    "We want a data frame where each row will represent one users answers to one survey. We create a empty DataFrame and fill it out with one row for each unique UserID found in the answers table."
   ]
  },
  {
   "cell_type": "code",
   "execution_count": 5,
   "id": "78b8cbf0",
   "metadata": {},
   "outputs": [],
   "source": [
    "surveys = pd.DataFrame(columns=['q1', 'q2', 'q3', 'q5', 'q6', 'q7', 'q8', 'q9', 'q13', 'q17', 'q18', 'q19', 'q30', 'q32', 'q33', 'q34', 'q93', 'q97', 'q99', 'q100', 'q117', 'q118' 'Year'])\n",
    "user_ids = answers['UserID'].unique()\n",
    "surveys['UserID'] = user_ids"
   ]
  },
  {
   "cell_type": "markdown",
   "id": "5cf83a2a",
   "metadata": {},
   "source": [
    "In order to fill out the survey DataFrame we have to iterate through each row in the answers table and set the values in the corresponding row in surveys."
   ]
  },
  {
   "cell_type": "code",
   "execution_count": 6,
   "id": "0c2a348e",
   "metadata": {},
   "outputs": [],
   "source": [
    "for answer in answers.iterrows():\n",
    "    user_id = answer[1][2]\n",
    "    question_id = 'q' + str(answer[1][3])\n",
    "    answer_text = answer[1][0]\n",
    "    year = answer[1][1]\n",
    "    surveys.at[user_id - 1, question_id] = answer_text\n",
    "    surveys.at[user_id - 1, 'Year'] = year\n",
    "        \n",
    "    "
   ]
  },
  {
   "cell_type": "markdown",
   "id": "021cc542",
   "metadata": {},
   "source": [
    "Some questions are very similar but does only exists in some years, we choose to combine these questions."
   ]
  },
  {
   "cell_type": "code",
   "execution_count": 7,
   "id": "263958f3",
   "metadata": {},
   "outputs": [],
   "source": [
    "surveys['q17'] = surveys['q17'].combine_first(surveys['q97'])\n",
    "surveys['q18'] = surveys['q18'].combine_first(surveys['q99'])\n",
    "surveys['q19'] = surveys['q19'].combine_first(surveys['q100'])\n",
    "\n",
    "surveys = surveys.drop(['q97', 'q99', 'q100'], axis = 1)\n"
   ]
  },
  {
   "cell_type": "markdown",
   "id": "d5531437",
   "metadata": {},
   "source": [
    "## Pre-processing\n"
   ]
  },
  {
   "cell_type": "markdown",
   "id": "d826be5e",
   "metadata": {},
   "source": [
    "## Age\n",
    "Some age values are negative, therefore those entries will be changed to positive. Also, there are some unrealistic ages, those will be removed."
   ]
  },
  {
   "cell_type": "code",
   "execution_count": 8,
   "id": "f4904e58",
   "metadata": {},
   "outputs": [
    {
     "data": {
      "text/plain": [
       "30     250\n",
       "29     229\n",
       "32     227\n",
       "31     223\n",
       "28     220\n",
       "      ... \n",
       "3        1\n",
       "17       1\n",
       "-29      1\n",
       "8        1\n",
       "70       1\n",
       "Name: q1, Length: 65, dtype: int64"
      ]
     },
     "execution_count": 8,
     "metadata": {},
     "output_type": "execute_result"
    }
   ],
   "source": [
    "age_values = surveys['q1'].value_counts()\n",
    "age_values"
   ]
  },
  {
   "cell_type": "code",
   "execution_count": 9,
   "id": "b5f876a7",
   "metadata": {},
   "outputs": [],
   "source": [
    "surveys['q1'] = surveys['q1'].str.replace('-','')\n",
    "surveys['q1'] = surveys['q1'].astype(int)"
   ]
  },
  {
   "cell_type": "code",
   "execution_count": 10,
   "id": "607284e7",
   "metadata": {},
   "outputs": [
    {
     "data": {
      "text/plain": [
       "30.0    250\n",
       "29.0    230\n",
       "32.0    227\n",
       "31.0    223\n",
       "28.0    220\n",
       "34.0    202\n",
       "35.0    201\n",
       "33.0    201\n",
       "27.0    197\n",
       "26.0    194\n",
       "37.0    184\n",
       "38.0    160\n",
       "36.0    147\n",
       "25.0    147\n",
       "39.0    137\n",
       "24.0    128\n",
       "40.0    122\n",
       "23.0    107\n",
       "42.0    100\n",
       "41.0     88\n",
       "43.0     82\n",
       "22.0     74\n",
       "45.0     74\n",
       "44.0     68\n",
       "46.0     58\n",
       "21.0     39\n",
       "47.0     38\n",
       "49.0     36\n",
       "50.0     30\n",
       "48.0     29\n",
       "51.0     22\n",
       "55.0     22\n",
       "19.0     20\n",
       "52.0     17\n",
       "54.0     17\n",
       "20.0     17\n",
       "53.0     15\n",
       "57.0     14\n",
       "56.0     13\n",
       "18.0      9\n",
       "61.0      7\n",
       "59.0      6\n",
       "58.0      5\n",
       "60.0      5\n",
       "63.0      5\n",
       "62.0      3\n",
       "64.0      3\n",
       "65.0      3\n",
       "66.0      2\n",
       "67.0      2\n",
       "72.0      1\n",
       "74.0      1\n",
       "17.0      1\n",
       "70.0      1\n",
       "99.0      1\n",
       "Name: q1, dtype: int64"
      ]
     },
     "execution_count": 10,
     "metadata": {},
     "output_type": "execute_result"
    }
   ],
   "source": [
    "surveys['q1'] = surveys[surveys['q1'] > 16]\n",
    "surveys['q1'] = surveys[surveys['q1'] < 100]\n",
    "age_values = surveys['q1'].value_counts()\n",
    "age_values\n",
    "                        "
   ]
  },
  {
   "cell_type": "markdown",
   "id": "1b6b81ea",
   "metadata": {},
   "source": [
    "## Gender\n",
    "The surveys respondents have answered this question in free text format, there fore we had to change many entries to 'other' and group 'Male' and 'male' etc."
   ]
  },
  {
   "cell_type": "code",
   "execution_count": 11,
   "id": "1bd9ae38",
   "metadata": {},
   "outputs": [
    {
     "name": "stdout",
     "output_type": "stream",
     "text": [
      "Male                 2830\n",
      "Female                914\n",
      "male                  212\n",
      "female                110\n",
      "-1                     24\n",
      "                     ... \n",
      "non binary              1\n",
      "Unicorn                 1\n",
      "\\-                      1\n",
      "trans woman             1\n",
      "She/her/they/them       1\n",
      "Name: q2, Length: 101, dtype: int64\n"
     ]
    },
    {
     "data": {
      "text/plain": [
       "male                           3043\n",
       "female                         1024\n",
       "-1                               24\n",
       "non-binary                        9\n",
       "nonbinary                         9\n",
       "                               ... \n",
       "uhhhhhhhhh fem genderqueer?       1\n",
       "transgender                       1\n",
       "43                                1\n",
       "bigender                          1\n",
       "sometimes                         1\n",
       "Name: q2, Length: 87, dtype: int64"
      ]
     },
     "execution_count": 11,
     "metadata": {},
     "output_type": "execute_result"
    }
   ],
   "source": [
    "gender_values = surveys['q2'].value_counts()\n",
    "print(gender_values)\n",
    "\n",
    "surveys['q2'] = surveys['q2'].str.lower()\n",
    "gender_values = surveys['q2'].value_counts()\n",
    "gender_values"
   ]
  },
  {
   "cell_type": "code",
   "execution_count": 12,
   "id": "b54552d8",
   "metadata": {},
   "outputs": [
    {
     "data": {
      "text/plain": [
       "male      3043\n",
       "female    1024\n",
       "other      151\n",
       "Name: q2, dtype: int64"
      ]
     },
     "execution_count": 12,
     "metadata": {},
     "output_type": "execute_result"
    }
   ],
   "source": [
    "surveys['q2'] = np.where(((surveys.q2 != 'male') & (surveys.q2 != 'female')),'other',surveys.q2)\n",
    "gender_values = surveys['q2'].value_counts()\n",
    "gender_values"
   ]
  },
  {
   "cell_type": "markdown",
   "id": "8b938684",
   "metadata": {},
   "source": [
    "## Country\n",
    "There were entries for 'Unitade States' and 'United States of America'. We grouped them together."
   ]
  },
  {
   "cell_type": "code",
   "execution_count": 13,
   "id": "b6b20d8c",
   "metadata": {},
   "outputs": [
    {
     "name": "stdout",
     "output_type": "stream",
     "text": [
      "United States of America    1853\n",
      "United States                751\n",
      "United Kingdom               482\n",
      "Canada                       199\n",
      "Germany                      136\n",
      "                            ... \n",
      "Ethiopia                       1\n",
      "Iran                           1\n",
      "Vietnam                        1\n",
      "Belarus                        1\n",
      "Saudi Arabia                   1\n",
      "Name: q3, Length: 81, dtype: int64\n"
     ]
    },
    {
     "data": {
      "text/plain": [
       "United States     2604\n",
       "United Kingdom     482\n",
       "Canada             199\n",
       "Germany            136\n",
       "Netherlands         98\n",
       "                  ... \n",
       "Vietnam              1\n",
       "Ethiopia             1\n",
       "Iran                 1\n",
       "Belarus              1\n",
       "Saudi Arabia         1\n",
       "Name: q3, Length: 80, dtype: int64"
      ]
     },
     "execution_count": 13,
     "metadata": {},
     "output_type": "execute_result"
    }
   ],
   "source": [
    "country_values = surveys['q3'].value_counts()\n",
    "print(country_values)\n",
    "surveys['q3'] = np.where((surveys.q3 == 'United States of America'),'United States',surveys.q3)\n",
    "country_values = surveys['q3'].value_counts()\n",
    "country_values"
   ]
  },
  {
   "cell_type": "markdown",
   "id": "729c7f5c",
   "metadata": {},
   "source": [
    "## Mental health disorder\n",
    "It seems like different surveys used the answer 'Possibly' and 'Maybe' as the same answer so we grouped them together.\n"
   ]
  },
  {
   "cell_type": "code",
   "execution_count": 14,
   "id": "230ebf88",
   "metadata": {},
   "outputs": [
    {
     "name": "stdout",
     "output_type": "stream",
     "text": [
      "Yes           1237\n",
      "No             969\n",
      "Maybe          327\n",
      "Possibly       301\n",
      "Don't Know     124\n",
      "Name: q33, dtype: int64\n"
     ]
    },
    {
     "data": {
      "text/plain": [
       "Yes           1237\n",
       "No             969\n",
       "Maybe          628\n",
       "Don't Know     124\n",
       "Name: q33, dtype: int64"
      ]
     },
     "execution_count": 14,
     "metadata": {},
     "output_type": "execute_result"
    }
   ],
   "source": [
    "q33_values = surveys['q33'].value_counts()\n",
    "print(q33_values)\n",
    "surveys['q33'] = np.where((surveys.q33 == 'Possibly'),'Maybe',surveys.q33)\n",
    "country_values = surveys['q33'].value_counts()\n",
    "country_values"
   ]
  },
  {
   "cell_type": "markdown",
   "id": "9f5e8898",
   "metadata": {},
   "source": [
    "## Pre process 2020 survey\n",
    "In order to concat the 2020 survey to our surveys DataFrame we have to do some pre processing."
   ]
  },
  {
   "cell_type": "code",
   "execution_count": 15,
   "id": "668140fe",
   "metadata": {},
   "outputs": [
    {
     "data": {
      "text/html": [
       "<div>\n",
       "<style scoped>\n",
       "    .dataframe tbody tr th:only-of-type {\n",
       "        vertical-align: middle;\n",
       "    }\n",
       "\n",
       "    .dataframe tbody tr th {\n",
       "        vertical-align: top;\n",
       "    }\n",
       "\n",
       "    .dataframe thead th {\n",
       "        text-align: right;\n",
       "    }\n",
       "</style>\n",
       "<table border=\"1\" class=\"dataframe\">\n",
       "  <thead>\n",
       "    <tr style=\"text-align: right;\">\n",
       "      <th></th>\n",
       "      <th>q1</th>\n",
       "      <th>q2</th>\n",
       "      <th>q3</th>\n",
       "      <th>q5</th>\n",
       "      <th>q6</th>\n",
       "      <th>q7</th>\n",
       "      <th>q8</th>\n",
       "      <th>q9</th>\n",
       "      <th>q13</th>\n",
       "      <th>q17</th>\n",
       "      <th>q18</th>\n",
       "      <th>q19</th>\n",
       "      <th>q30</th>\n",
       "      <th>q32</th>\n",
       "      <th>q33</th>\n",
       "      <th>q34</th>\n",
       "    </tr>\n",
       "  </thead>\n",
       "  <tbody>\n",
       "    <tr>\n",
       "      <th>56</th>\n",
       "      <td>58</td>\n",
       "      <td>male</td>\n",
       "      <td>United States of America</td>\n",
       "      <td>0</td>\n",
       "      <td>No</td>\n",
       "      <td>1</td>\n",
       "      <td>500-1000</td>\n",
       "      <td>0.0</td>\n",
       "      <td>1.0</td>\n",
       "      <td>Somewhat easy</td>\n",
       "      <td>No</td>\n",
       "      <td>No</td>\n",
       "      <td>8</td>\n",
       "      <td>Yes</td>\n",
       "      <td>No</td>\n",
       "      <td>NaN</td>\n",
       "    </tr>\n",
       "    <tr>\n",
       "      <th>126</th>\n",
       "      <td>27</td>\n",
       "      <td>M</td>\n",
       "      <td>Colombia</td>\n",
       "      <td>0</td>\n",
       "      <td>No</td>\n",
       "      <td>1</td>\n",
       "      <td>More than 1000</td>\n",
       "      <td>0.0</td>\n",
       "      <td>0.0</td>\n",
       "      <td>I don't know</td>\n",
       "      <td>No</td>\n",
       "      <td>No</td>\n",
       "      <td>1</td>\n",
       "      <td>Possibly</td>\n",
       "      <td>Possibly</td>\n",
       "      <td>NaN</td>\n",
       "    </tr>\n",
       "    <tr>\n",
       "      <th>119</th>\n",
       "      <td>32</td>\n",
       "      <td>Female</td>\n",
       "      <td>India</td>\n",
       "      <td>0</td>\n",
       "      <td>No</td>\n",
       "      <td>0</td>\n",
       "      <td>More than 1000</td>\n",
       "      <td>0.0</td>\n",
       "      <td>1.0</td>\n",
       "      <td>Neither easy nor difficult</td>\n",
       "      <td>Maybe</td>\n",
       "      <td>Yes</td>\n",
       "      <td>8</td>\n",
       "      <td>No</td>\n",
       "      <td>Don't Know</td>\n",
       "      <td>NaN</td>\n",
       "    </tr>\n",
       "    <tr>\n",
       "      <th>12</th>\n",
       "      <td>40</td>\n",
       "      <td>Female</td>\n",
       "      <td>Canada</td>\n",
       "      <td>1</td>\n",
       "      <td>Yes</td>\n",
       "      <td>0</td>\n",
       "      <td>NaN</td>\n",
       "      <td>NaN</td>\n",
       "      <td>NaN</td>\n",
       "      <td>NaN</td>\n",
       "      <td>NaN</td>\n",
       "      <td>NaN</td>\n",
       "      <td>8</td>\n",
       "      <td>No</td>\n",
       "      <td>No</td>\n",
       "      <td>NaN</td>\n",
       "    </tr>\n",
       "    <tr>\n",
       "      <th>168</th>\n",
       "      <td>39</td>\n",
       "      <td>Male</td>\n",
       "      <td>United States of America</td>\n",
       "      <td>0</td>\n",
       "      <td>Yes</td>\n",
       "      <td>1</td>\n",
       "      <td>26-100</td>\n",
       "      <td>1.0</td>\n",
       "      <td>1.0</td>\n",
       "      <td>Very easy</td>\n",
       "      <td>Yes</td>\n",
       "      <td>Yes</td>\n",
       "      <td>9</td>\n",
       "      <td>Yes</td>\n",
       "      <td>Yes</td>\n",
       "      <td>Yes</td>\n",
       "    </tr>\n",
       "    <tr>\n",
       "      <th>53</th>\n",
       "      <td>34</td>\n",
       "      <td>male</td>\n",
       "      <td>Australia</td>\n",
       "      <td>0</td>\n",
       "      <td>I don't know</td>\n",
       "      <td>0</td>\n",
       "      <td>100-500</td>\n",
       "      <td>0.0</td>\n",
       "      <td>1.0</td>\n",
       "      <td>Somewhat easy</td>\n",
       "      <td>Maybe</td>\n",
       "      <td>Maybe</td>\n",
       "      <td>5</td>\n",
       "      <td>Don't Know</td>\n",
       "      <td>Don't Know</td>\n",
       "      <td>NaN</td>\n",
       "    </tr>\n",
       "    <tr>\n",
       "      <th>84</th>\n",
       "      <td>33</td>\n",
       "      <td>Female</td>\n",
       "      <td>United States of America</td>\n",
       "      <td>0</td>\n",
       "      <td>No</td>\n",
       "      <td>0</td>\n",
       "      <td>More than 1000</td>\n",
       "      <td>0.0</td>\n",
       "      <td>1.0</td>\n",
       "      <td>I don't know</td>\n",
       "      <td>Maybe</td>\n",
       "      <td>Maybe</td>\n",
       "      <td>5</td>\n",
       "      <td>No</td>\n",
       "      <td>Possibly</td>\n",
       "      <td>NaN</td>\n",
       "    </tr>\n",
       "    <tr>\n",
       "      <th>93</th>\n",
       "      <td>23</td>\n",
       "      <td>Female</td>\n",
       "      <td>Serbia</td>\n",
       "      <td>0</td>\n",
       "      <td>No</td>\n",
       "      <td>0</td>\n",
       "      <td>100-500</td>\n",
       "      <td>0.0</td>\n",
       "      <td>1.0</td>\n",
       "      <td>Neither easy nor difficult</td>\n",
       "      <td>Yes</td>\n",
       "      <td>Yes</td>\n",
       "      <td>8</td>\n",
       "      <td>No</td>\n",
       "      <td>Don't Know</td>\n",
       "      <td>NaN</td>\n",
       "    </tr>\n",
       "    <tr>\n",
       "      <th>63</th>\n",
       "      <td>34</td>\n",
       "      <td>Male</td>\n",
       "      <td>South Africa</td>\n",
       "      <td>0</td>\n",
       "      <td>Yes</td>\n",
       "      <td>1</td>\n",
       "      <td>6-25</td>\n",
       "      <td>1.0</td>\n",
       "      <td>1.0</td>\n",
       "      <td>Difficult</td>\n",
       "      <td>Yes</td>\n",
       "      <td>No</td>\n",
       "      <td>10</td>\n",
       "      <td>Yes</td>\n",
       "      <td>Yes</td>\n",
       "      <td>Yes</td>\n",
       "    </tr>\n",
       "    <tr>\n",
       "      <th>80</th>\n",
       "      <td>33</td>\n",
       "      <td>female</td>\n",
       "      <td>Canada</td>\n",
       "      <td>0</td>\n",
       "      <td>No</td>\n",
       "      <td>0</td>\n",
       "      <td>More than 1000</td>\n",
       "      <td>0.0</td>\n",
       "      <td>1.0</td>\n",
       "      <td>Somewhat difficult</td>\n",
       "      <td>No</td>\n",
       "      <td>Maybe</td>\n",
       "      <td>4</td>\n",
       "      <td>No</td>\n",
       "      <td>Possibly</td>\n",
       "      <td>NaN</td>\n",
       "    </tr>\n",
       "    <tr>\n",
       "      <th>169</th>\n",
       "      <td>25</td>\n",
       "      <td>Male</td>\n",
       "      <td>India</td>\n",
       "      <td>0</td>\n",
       "      <td>No</td>\n",
       "      <td>0</td>\n",
       "      <td>More than 1000</td>\n",
       "      <td>1.0</td>\n",
       "      <td>1.0</td>\n",
       "      <td>Neither easy nor difficult</td>\n",
       "      <td>No</td>\n",
       "      <td>No</td>\n",
       "      <td>5</td>\n",
       "      <td>No</td>\n",
       "      <td>No</td>\n",
       "      <td>NaN</td>\n",
       "    </tr>\n",
       "    <tr>\n",
       "      <th>76</th>\n",
       "      <td>50</td>\n",
       "      <td>M</td>\n",
       "      <td>United States of America</td>\n",
       "      <td>0</td>\n",
       "      <td>No</td>\n",
       "      <td>0</td>\n",
       "      <td>More than 1000</td>\n",
       "      <td>1.0</td>\n",
       "      <td>1.0</td>\n",
       "      <td>Neither easy nor difficult</td>\n",
       "      <td>No</td>\n",
       "      <td>No</td>\n",
       "      <td>6</td>\n",
       "      <td>No</td>\n",
       "      <td>No</td>\n",
       "      <td>NaN</td>\n",
       "    </tr>\n",
       "    <tr>\n",
       "      <th>152</th>\n",
       "      <td>34</td>\n",
       "      <td>male</td>\n",
       "      <td>Turkey</td>\n",
       "      <td>0</td>\n",
       "      <td>No</td>\n",
       "      <td>1</td>\n",
       "      <td>More than 1000</td>\n",
       "      <td>0.0</td>\n",
       "      <td>1.0</td>\n",
       "      <td>Difficult</td>\n",
       "      <td>Maybe</td>\n",
       "      <td>No</td>\n",
       "      <td>8</td>\n",
       "      <td>Don't Know</td>\n",
       "      <td>No</td>\n",
       "      <td>NaN</td>\n",
       "    </tr>\n",
       "    <tr>\n",
       "      <th>99</th>\n",
       "      <td>37</td>\n",
       "      <td>Male</td>\n",
       "      <td>United States of America</td>\n",
       "      <td>0</td>\n",
       "      <td>No</td>\n",
       "      <td>1</td>\n",
       "      <td>100-500</td>\n",
       "      <td>1.0</td>\n",
       "      <td>1.0</td>\n",
       "      <td>Somewhat difficult</td>\n",
       "      <td>No</td>\n",
       "      <td>No</td>\n",
       "      <td>10</td>\n",
       "      <td>Yes</td>\n",
       "      <td>No</td>\n",
       "      <td>NaN</td>\n",
       "    </tr>\n",
       "    <tr>\n",
       "      <th>114</th>\n",
       "      <td>53</td>\n",
       "      <td>female</td>\n",
       "      <td>United States of America</td>\n",
       "      <td>0</td>\n",
       "      <td>Yes</td>\n",
       "      <td>1</td>\n",
       "      <td>26-100</td>\n",
       "      <td>1.0</td>\n",
       "      <td>1.0</td>\n",
       "      <td>Somewhat difficult</td>\n",
       "      <td>Maybe</td>\n",
       "      <td>No</td>\n",
       "      <td>2</td>\n",
       "      <td>Yes</td>\n",
       "      <td>Possibly</td>\n",
       "      <td>NaN</td>\n",
       "    </tr>\n",
       "    <tr>\n",
       "      <th>21</th>\n",
       "      <td>44</td>\n",
       "      <td>Male</td>\n",
       "      <td>Brazil</td>\n",
       "      <td>1</td>\n",
       "      <td>I don't know</td>\n",
       "      <td>0</td>\n",
       "      <td>NaN</td>\n",
       "      <td>NaN</td>\n",
       "      <td>NaN</td>\n",
       "      <td>NaN</td>\n",
       "      <td>NaN</td>\n",
       "      <td>NaN</td>\n",
       "      <td>5</td>\n",
       "      <td>Possibly</td>\n",
       "      <td>Don't Know</td>\n",
       "      <td>NaN</td>\n",
       "    </tr>\n",
       "    <tr>\n",
       "      <th>148</th>\n",
       "      <td>42</td>\n",
       "      <td>m</td>\n",
       "      <td>India</td>\n",
       "      <td>0</td>\n",
       "      <td>No</td>\n",
       "      <td>0</td>\n",
       "      <td>26-100</td>\n",
       "      <td>0.0</td>\n",
       "      <td>0.0</td>\n",
       "      <td>Somewhat difficult</td>\n",
       "      <td>No</td>\n",
       "      <td>Maybe</td>\n",
       "      <td>4</td>\n",
       "      <td>Possibly</td>\n",
       "      <td>Possibly</td>\n",
       "      <td>NaN</td>\n",
       "    </tr>\n",
       "    <tr>\n",
       "      <th>124</th>\n",
       "      <td>45</td>\n",
       "      <td>Male</td>\n",
       "      <td>United States of America</td>\n",
       "      <td>0</td>\n",
       "      <td>Yes</td>\n",
       "      <td>1</td>\n",
       "      <td>6-25</td>\n",
       "      <td>1.0</td>\n",
       "      <td>1.0</td>\n",
       "      <td>Very easy</td>\n",
       "      <td>No</td>\n",
       "      <td>Yes</td>\n",
       "      <td>10</td>\n",
       "      <td>Yes</td>\n",
       "      <td>Yes</td>\n",
       "      <td>Yes</td>\n",
       "    </tr>\n",
       "    <tr>\n",
       "      <th>110</th>\n",
       "      <td>48</td>\n",
       "      <td>F</td>\n",
       "      <td>United States of America</td>\n",
       "      <td>0</td>\n",
       "      <td>Yes</td>\n",
       "      <td>1</td>\n",
       "      <td>26-100</td>\n",
       "      <td>0.0</td>\n",
       "      <td>1.0</td>\n",
       "      <td>Somewhat easy</td>\n",
       "      <td>Maybe</td>\n",
       "      <td>Yes</td>\n",
       "      <td>10</td>\n",
       "      <td>Yes</td>\n",
       "      <td>Yes</td>\n",
       "      <td>Yes</td>\n",
       "    </tr>\n",
       "    <tr>\n",
       "      <th>7</th>\n",
       "      <td>35</td>\n",
       "      <td>Male</td>\n",
       "      <td>United States of America</td>\n",
       "      <td>1</td>\n",
       "      <td>Yes</td>\n",
       "      <td>1</td>\n",
       "      <td>NaN</td>\n",
       "      <td>NaN</td>\n",
       "      <td>NaN</td>\n",
       "      <td>NaN</td>\n",
       "      <td>NaN</td>\n",
       "      <td>NaN</td>\n",
       "      <td>9</td>\n",
       "      <td>Possibly</td>\n",
       "      <td>Possibly</td>\n",
       "      <td>NaN</td>\n",
       "    </tr>\n",
       "  </tbody>\n",
       "</table>\n",
       "</div>"
      ],
      "text/plain": [
       "     q1      q2                        q3  q5            q6  q7  \\\n",
       "56   58    male  United States of America   0            No   1   \n",
       "126  27       M                  Colombia   0            No   1   \n",
       "119  32  Female                     India   0            No   0   \n",
       "12   40  Female                    Canada   1           Yes   0   \n",
       "168  39    Male  United States of America   0           Yes   1   \n",
       "53   34    male                 Australia   0  I don't know   0   \n",
       "84   33  Female  United States of America   0            No   0   \n",
       "93   23  Female                    Serbia   0            No   0   \n",
       "63   34    Male              South Africa   0           Yes   1   \n",
       "80   33  female                    Canada   0            No   0   \n",
       "169  25    Male                     India   0            No   0   \n",
       "76   50       M  United States of America   0            No   0   \n",
       "152  34    male                    Turkey   0            No   1   \n",
       "99   37    Male  United States of America   0            No   1   \n",
       "114  53  female  United States of America   0           Yes   1   \n",
       "21   44    Male                    Brazil   1  I don't know   0   \n",
       "148  42       m                     India   0            No   0   \n",
       "124  45    Male  United States of America   0           Yes   1   \n",
       "110  48       F  United States of America   0           Yes   1   \n",
       "7    35    Male  United States of America   1           Yes   1   \n",
       "\n",
       "                 q8   q9  q13                         q17    q18    q19  q30  \\\n",
       "56         500-1000  0.0  1.0               Somewhat easy     No     No    8   \n",
       "126  More than 1000  0.0  0.0                I don't know     No     No    1   \n",
       "119  More than 1000  0.0  1.0  Neither easy nor difficult  Maybe    Yes    8   \n",
       "12              NaN  NaN  NaN                         NaN    NaN    NaN    8   \n",
       "168          26-100  1.0  1.0                   Very easy    Yes    Yes    9   \n",
       "53          100-500  0.0  1.0               Somewhat easy  Maybe  Maybe    5   \n",
       "84   More than 1000  0.0  1.0                I don't know  Maybe  Maybe    5   \n",
       "93          100-500  0.0  1.0  Neither easy nor difficult    Yes    Yes    8   \n",
       "63             6-25  1.0  1.0                   Difficult    Yes     No   10   \n",
       "80   More than 1000  0.0  1.0          Somewhat difficult     No  Maybe    4   \n",
       "169  More than 1000  1.0  1.0  Neither easy nor difficult     No     No    5   \n",
       "76   More than 1000  1.0  1.0  Neither easy nor difficult     No     No    6   \n",
       "152  More than 1000  0.0  1.0                   Difficult  Maybe     No    8   \n",
       "99          100-500  1.0  1.0          Somewhat difficult     No     No   10   \n",
       "114          26-100  1.0  1.0          Somewhat difficult  Maybe     No    2   \n",
       "21              NaN  NaN  NaN                         NaN    NaN    NaN    5   \n",
       "148          26-100  0.0  0.0          Somewhat difficult     No  Maybe    4   \n",
       "124            6-25  1.0  1.0                   Very easy     No    Yes   10   \n",
       "110          26-100  0.0  1.0               Somewhat easy  Maybe    Yes   10   \n",
       "7               NaN  NaN  NaN                         NaN    NaN    NaN    9   \n",
       "\n",
       "            q32         q33  q34  \n",
       "56          Yes          No  NaN  \n",
       "126    Possibly    Possibly  NaN  \n",
       "119          No  Don't Know  NaN  \n",
       "12           No          No  NaN  \n",
       "168         Yes         Yes  Yes  \n",
       "53   Don't Know  Don't Know  NaN  \n",
       "84           No    Possibly  NaN  \n",
       "93           No  Don't Know  NaN  \n",
       "63          Yes         Yes  Yes  \n",
       "80           No    Possibly  NaN  \n",
       "169          No          No  NaN  \n",
       "76           No          No  NaN  \n",
       "152  Don't Know          No  NaN  \n",
       "99          Yes          No  NaN  \n",
       "114         Yes    Possibly  NaN  \n",
       "21     Possibly  Don't Know  NaN  \n",
       "148    Possibly    Possibly  NaN  \n",
       "124         Yes         Yes  Yes  \n",
       "110         Yes         Yes  Yes  \n",
       "7      Possibly    Possibly  NaN  "
      ]
     },
     "execution_count": 15,
     "metadata": {},
     "output_type": "execute_result"
    }
   ],
   "source": [
    "survey_2020 = survey_2020[['q1', 'q2', 'q3', 'q5', 'q6', 'q7', 'q8', 'q9', 'q13', 'q17', 'q18', 'q19', 'q30', 'q32', 'q33', 'q34']]\n",
    "survey_2020.sample(20)\n"
   ]
  },
  {
   "cell_type": "markdown",
   "id": "67926bfe",
   "metadata": {},
   "source": [
    "## Plots"
   ]
  },
  {
   "cell_type": "code",
   "execution_count": 24,
   "id": "b1e48054",
   "metadata": {},
   "outputs": [
    {
     "data": {
      "text/plain": [
       "<AxesSubplot:xlabel='q2', ylabel='count'>"
      ]
     },
     "execution_count": 24,
     "metadata": {},
     "output_type": "execute_result"
    },
    {
     "data": {
      "image/png": "[encoded data removed]",
      "text/plain": [
       "<Figure size 1152x576 with 1 Axes>"
      ]
     },
     "metadata": {},
     "output_type": "display_data"
    }
   ],
   "source": [
    "sns.set(rc = {'figure.figsize':(16,8)})\n",
    "sns.countplot(x='q2', data=surveys)"
   ]
  },
  {
   "cell_type": "code",
   "execution_count": 25,
   "id": "b323d4db",
   "metadata": {},
   "outputs": [
    {
     "data": {
      "text/plain": [
       "<AxesSubplot:xlabel='q33', ylabel='count'>"
      ]
     },
     "execution_count": 25,
     "metadata": {},
     "output_type": "execute_result"
    },
    {
     "data": {
      "image/png": "[encoded data removed]",
      "text/plain": [
       "<Figure size 1152x576 with 1 Axes>"
      ]
     },
     "metadata": {},
     "output_type": "display_data"
    }
   ],
   "source": [
    "sns.countplot(x='q33', data=surveys)"
   ]
  },
  {
   "cell_type": "code",
   "execution_count": 26,
   "id": "8b9821b2",
   "metadata": {},
   "outputs": [
    {
     "data": {
      "text/plain": [
       "<AxesSubplot:xlabel='q8', ylabel='count'>"
      ]
     },
     "execution_count": 26,
     "metadata": {},
     "output_type": "execute_result"
    },
    {
     "data": {
      "image/png": "[encoded data removed]",
      "text/plain": [
       "<Figure size 1152x576 with 1 Axes>"
      ]
     },
     "metadata": {},
     "output_type": "display_data"
    }
   ],
   "source": [
    "sns.countplot(x='q8', data=surveys)"
   ]
  },
  {
   "cell_type": "code",
   "execution_count": null,
   "id": "332d4735",
   "metadata": {},
   "outputs": [],
   "source": []
  }
 ],
 "metadata": {
  "kernelspec": {
   "display_name": "Python 3",
   "language": "python",
   "name": "python3"
  },
  "language_info": {
   "codemirror_mode": {
    "name": "ipython",
    "version": 3
   },
   "file_extension": ".py",
   "mimetype": "text/x-python",
   "name": "python",
   "nbconvert_exporter": "python",
   "pygments_lexer": "ipython3",
   "version": "3.8.8"
  }
 },
 "nbformat": 4,
 "nbformat_minor": 5
}
