{
 "cells": [
  {
   "cell_type": "code",
   "execution_count": 29,
   "id": "590eb1c3",
   "metadata": {},
   "outputs": [],
   "source": [
    "import pandas as pd\n",
    "import numpy as np\n",
    "import matplotlib.pyplot as plt"
   ]
  },
  {
   "cell_type": "code",
   "execution_count": 30,
   "id": "eab92ab2",
   "metadata": {},
   "outputs": [],
   "source": [
    "answers = pd.read_csv('./data/Answer.csv')\n",
    "survey_2020 = pd.read_csv('./data/2020-survey.csv')\n",
    "correct_columns = [1, 2, 3, 5, 6, 7, 8, 9, 13, 17, 18, 19, 30, 32, 33, 34, 93, 97, 99, 100, 117, 118]"
   ]
  },
  {
   "cell_type": "code",
   "execution_count": 31,
   "id": "092ad4fb",
   "metadata": {},
   "outputs": [],
   "source": [
    "unused_questions_removed = survey_2020.columns[survey_2020.columns.str.startswith('q')]\n",
    "survey_2020 = survey_2020[unused_questions_removed]\n"
   ]
  },
  {
   "cell_type": "markdown",
   "id": "304c8de0",
   "metadata": {},
   "source": [
    "## Filter out unrelevant questions"
   ]
  },
  {
   "cell_type": "code",
   "execution_count": 32,
   "id": "f84919ec",
   "metadata": {},
   "outputs": [],
   "source": [
    "answers = answers[answers['QuestionID'].isin(correct_columns)]"
   ]
  },
  {
   "cell_type": "markdown",
   "id": "0497b3e8",
   "metadata": {},
   "source": [
    "## Create survey DataFrame\n",
    "\n",
    "We want a data frame where each row will represent one users answers to one survey. We create a empty DataFrame and fill it out with one row for each unique UserID found in the answers table."
   ]
  },
  {
   "cell_type": "code",
   "execution_count": 33,
   "id": "78b8cbf0",
   "metadata": {},
   "outputs": [],
   "source": [
    "surveys = pd.DataFrame(columns=['q1', 'q2', 'q3', 'q5', 'q6', 'q7', 'q8', 'q9', 'q13', 'q17', 'q18', 'q19', 'q30', 'q32', 'q33', 'q34', 'q93', 'q97', 'q99', 'q100', 'q117', 'q118' 'Year'])\n",
    "user_ids = answers['UserID'].unique()\n",
    "surveys['UserID'] = user_ids"
   ]
  },
  {
   "cell_type": "markdown",
   "id": "5cf83a2a",
   "metadata": {},
   "source": [
    "In order to fill out the survey DataFrame we have to iterate through each row in the answers table and set the values in the corresponding row in surveys."
   ]
  },
  {
   "cell_type": "code",
   "execution_count": 34,
   "id": "0c2a348e",
   "metadata": {},
   "outputs": [],
   "source": [
    "for answer in answers.iterrows():\n",
    "    user_id = answer[1][2]\n",
    "    question_id = 'q' + str(answer[1][3])\n",
    "    answer_text = answer[1][0]\n",
    "    year = answer[1][1]\n",
    "    surveys.at[user_id - 1, question_id] = answer_text\n",
    "    surveys.at[user_id - 1, 'Year'] = year\n",
    "        \n",
    "    "
   ]
  },
  {
   "cell_type": "markdown",
   "id": "021cc542",
   "metadata": {},
   "source": [
    "Some questions are very similar but does only exists in some years, we choose to combine these questions."
   ]
  },
  {
   "cell_type": "code",
   "execution_count": 35,
   "id": "263958f3",
   "metadata": {},
   "outputs": [],
   "source": [
    "surveys['q17'] = surveys['q17'].combine_first(surveys['q97'])\n",
    "surveys['q18'] = surveys['q18'].combine_first(surveys['q99'])\n",
    "surveys['q19'] = surveys['q19'].combine_first(surveys['q100'])\n",
    "\n",
    "surveys = surveys.drop(['q97', 'q99', 'q100'], axis = 1)\n"
   ]
  },
  {
   "cell_type": "markdown",
   "id": "d5531437",
   "metadata": {},
   "source": [
    "## Pre-processing\n"
   ]
  },
  {
   "cell_type": "markdown",
   "id": "d826be5e",
   "metadata": {},
   "source": [
    "## Age\n",
    "Some age values are negative, therefore those entries will be changed to positive. Also, there are some unrealistic ages, those will be removed."
   ]
  },
  {
   "cell_type": "code",
   "execution_count": 36,
   "id": "85caea02",
   "metadata": {},
   "outputs": [
    {
     "data": {
      "text/plain": [
       "30    250\n",
       "29    229\n",
       "32    227\n",
       "31    223\n",
       "28    220\n",
       "     ... \n",
       "0       1\n",
       "5       1\n",
       "70      1\n",
       "72      1\n",
       "3       1\n",
       "Name: q1, Length: 65, dtype: int64"
      ]
     },
     "execution_count": 36,
     "metadata": {},
     "output_type": "execute_result"
    }
   ],
   "source": [
    "age_values = surveys['q1'].value_counts()\n",
    "age_values"
   ]
  },
  {
   "cell_type": "code",
   "execution_count": 37,
   "id": "b5f876a7",
   "metadata": {},
   "outputs": [],
   "source": [
    "surveys['q1'] = surveys['q1'].str.replace('-','')\n",
    "surveys['q1'] = surveys['q1'].astype(int)"
   ]
  },
  {
   "cell_type": "code",
   "execution_count": 38,
   "id": "eea78a62",
   "metadata": {},
   "outputs": [
    {
     "data": {
      "text/plain": [
       "30.0    250\n",
       "29.0    230\n",
       "32.0    227\n",
       "31.0    223\n",
       "28.0    220\n",
       "       ... \n",
       "72.0      1\n",
       "74.0      1\n",
       "17.0      1\n",
       "70.0      1\n",
       "99.0      1\n",
       "Name: q1, Length: 55, dtype: int64"
      ]
     },
     "execution_count": 38,
     "metadata": {},
     "output_type": "execute_result"
    }
   ],
   "source": [
    "surveys['q1'] = surveys[surveys['q1'] > 16]\n",
    "surveys['q1'] = surveys[surveys['q1'] < 100]\n",
    "age_values = surveys['q1'].value_counts()\n",
    "age_values\n",
    "                        "
   ]
  },
  {
   "cell_type": "markdown",
   "id": "c689c324",
   "metadata": {},
   "source": [
    "## Gender\n",
    "The surveys respondents have answered this question in free text format, there fore we had to change many entries to 'other' and group 'Male' and 'male' etc."
   ]
  },
  {
   "cell_type": "code",
   "execution_count": 39,
   "id": "1bd9ae38",
   "metadata": {},
   "outputs": [
    {
     "name": "stdout",
     "output_type": "stream",
     "text": [
      "Male                        2830\n",
      "Female                       914\n",
      "male                         212\n",
      "female                       110\n",
      "-1                            24\n",
      "                            ... \n",
      "transgender                    1\n",
      "human                          1\n",
      "Guy (-ish) ^_^                 1\n",
      "femmina                        1\n",
      "male 9:1 female, roughly       1\n",
      "Name: q2, Length: 101, dtype: int64\n"
     ]
    },
    {
     "data": {
      "text/plain": [
       "male                        3043\n",
       "female                      1024\n",
       "-1                            24\n",
       "nonbinary                      9\n",
       "non-binary                     9\n",
       "                            ... \n",
       "43                             1\n",
       "genderqueer woman              1\n",
       "androgynous                    1\n",
       "transitioned, m2f              1\n",
       "female assigned at birth       1\n",
       "Name: q2, Length: 87, dtype: int64"
      ]
     },
     "execution_count": 39,
     "metadata": {},
     "output_type": "execute_result"
    }
   ],
   "source": [
    "gender_values = surveys['q2'].value_counts()\n",
    "print(gender_values)\n",
    "\n",
    "surveys['q2'] = surveys['q2'].str.lower()\n",
    "gender_values = surveys['q2'].value_counts()\n",
    "gender_values"
   ]
  },
  {
   "cell_type": "code",
   "execution_count": 40,
   "id": "b54552d8",
   "metadata": {},
   "outputs": [
    {
     "data": {
      "text/plain": [
       "male      3043\n",
       "female    1024\n",
       "other      151\n",
       "Name: q2, dtype: int64"
      ]
     },
     "execution_count": 40,
     "metadata": {},
     "output_type": "execute_result"
    }
   ],
   "source": [
    "surveys['q2'] = np.where(((surveys.q2 != 'male') & (surveys.q2 != 'female')),'other',surveys.q2)\n",
    "gender_values = surveys['q2'].value_counts()\n",
    "gender_values"
   ]
  },
  {
   "cell_type": "markdown",
   "id": "8b938684",
   "metadata": {},
   "source": [
    "## Country\n",
    "There were entries for 'Unitade States' and 'United States of America'. We grouped them together."
   ]
  },
  {
   "cell_type": "code",
   "execution_count": 41,
   "id": "b6b20d8c",
   "metadata": {},
   "outputs": [
    {
     "name": "stdout",
     "output_type": "stream",
     "text": [
      "United States of America    1853\n",
      "United States                751\n",
      "United Kingdom               482\n",
      "Canada                       199\n",
      "Germany                      136\n",
      "                            ... \n",
      "Vietnam                        1\n",
      "Brunei                         1\n",
      "Bahamas, The                   1\n",
      "Philippines                    1\n",
      "Thailand                       1\n",
      "Name: q3, Length: 81, dtype: int64\n"
     ]
    },
    {
     "data": {
      "text/plain": [
       "United States     2604\n",
       "United Kingdom     482\n",
       "Canada             199\n",
       "Germany            136\n",
       "Netherlands         98\n",
       "                  ... \n",
       "Taiwan               1\n",
       "Macedonia            1\n",
       "Belarus              1\n",
       "Saudi Arabia         1\n",
       "Thailand             1\n",
       "Name: q3, Length: 80, dtype: int64"
      ]
     },
     "execution_count": 41,
     "metadata": {},
     "output_type": "execute_result"
    }
   ],
   "source": [
    "country_values = surveys['q3'].value_counts()\n",
    "print(country_values)\n",
    "surveys['q3'] = np.where((surveys.q3 == 'United States of America'),'United States',surveys.q3)\n",
    "country_values = surveys['q3'].value_counts()\n",
    "country_values"
   ]
  },
  {
   "cell_type": "markdown",
   "id": "729c7f5c",
   "metadata": {},
   "source": [
    "## Mental health disorder\n",
    "It seems like different surveys used the answer 'Possibly' and 'Maybe' as the same answer so we grouped them together.\n"
   ]
  },
  {
   "cell_type": "code",
   "execution_count": 42,
   "id": "230ebf88",
   "metadata": {},
   "outputs": [
    {
     "name": "stdout",
     "output_type": "stream",
     "text": [
      "Yes           1237\n",
      "No             969\n",
      "Maybe          327\n",
      "Possibly       301\n",
      "Don't Know     124\n",
      "Name: q33, dtype: int64\n"
     ]
    },
    {
     "data": {
      "text/plain": [
       "Yes           1237\n",
       "No             969\n",
       "Maybe          628\n",
       "Don't Know     124\n",
       "Name: q33, dtype: int64"
      ]
     },
     "execution_count": 42,
     "metadata": {},
     "output_type": "execute_result"
    }
   ],
   "source": [
    "q33_values = surveys['q33'].value_counts()\n",
    "print(q33_values)\n",
    "surveys['q33'] = np.where((surveys.q33 == 'Possibly'),'Maybe',surveys.q33)\n",
    "country_values = surveys['q33'].value_counts()\n",
    "country_values"
   ]
  },
  {
   "cell_type": "markdown",
   "id": "9f5e8898",
   "metadata": {},
   "source": [
    "## Pre process 2020 survey\n",
    "In order to concat the 2020 survey to our surveys DataFrame we have to do some pre processing."
   ]
  },
  {
   "cell_type": "code",
   "execution_count": 44,
   "id": "668140fe",
   "metadata": {},
   "outputs": [
    {
     "data": {
      "text/html": [
       "<div>\n",
       "<style scoped>\n",
       "    .dataframe tbody tr th:only-of-type {\n",
       "        vertical-align: middle;\n",
       "    }\n",
       "\n",
       "    .dataframe tbody tr th {\n",
       "        vertical-align: top;\n",
       "    }\n",
       "\n",
       "    .dataframe thead th {\n",
       "        text-align: right;\n",
       "    }\n",
       "</style>\n",
       "<table border=\"1\" class=\"dataframe\">\n",
       "  <thead>\n",
       "    <tr style=\"text-align: right;\">\n",
       "      <th></th>\n",
       "      <th>q1</th>\n",
       "      <th>q2</th>\n",
       "      <th>q3</th>\n",
       "      <th>q5</th>\n",
       "      <th>q6</th>\n",
       "      <th>q7</th>\n",
       "      <th>q8</th>\n",
       "      <th>q9</th>\n",
       "      <th>q13</th>\n",
       "      <th>q17</th>\n",
       "      <th>q18</th>\n",
       "      <th>q19</th>\n",
       "      <th>q30</th>\n",
       "      <th>q32</th>\n",
       "      <th>q33</th>\n",
       "      <th>q34</th>\n",
       "    </tr>\n",
       "  </thead>\n",
       "  <tbody>\n",
       "    <tr>\n",
       "      <th>92</th>\n",
       "      <td>40</td>\n",
       "      <td>Female</td>\n",
       "      <td>India</td>\n",
       "      <td>0</td>\n",
       "      <td>I don't know</td>\n",
       "      <td>0</td>\n",
       "      <td>100-500</td>\n",
       "      <td>1.0</td>\n",
       "      <td>1.0</td>\n",
       "      <td>Difficult</td>\n",
       "      <td>Yes</td>\n",
       "      <td>No</td>\n",
       "      <td>8</td>\n",
       "      <td>No</td>\n",
       "      <td>No</td>\n",
       "      <td>NaN</td>\n",
       "    </tr>\n",
       "    <tr>\n",
       "      <th>0</th>\n",
       "      <td>45</td>\n",
       "      <td>Male</td>\n",
       "      <td>United States of America</td>\n",
       "      <td>1</td>\n",
       "      <td>Yes</td>\n",
       "      <td>0</td>\n",
       "      <td>NaN</td>\n",
       "      <td>NaN</td>\n",
       "      <td>NaN</td>\n",
       "      <td>NaN</td>\n",
       "      <td>NaN</td>\n",
       "      <td>NaN</td>\n",
       "      <td>5</td>\n",
       "      <td>Don't Know</td>\n",
       "      <td>Don't Know</td>\n",
       "      <td>NaN</td>\n",
       "    </tr>\n",
       "    <tr>\n",
       "      <th>81</th>\n",
       "      <td>29</td>\n",
       "      <td>Male</td>\n",
       "      <td>Sweden</td>\n",
       "      <td>0</td>\n",
       "      <td>No</td>\n",
       "      <td>0</td>\n",
       "      <td>26-100</td>\n",
       "      <td>1.0</td>\n",
       "      <td>1.0</td>\n",
       "      <td>Somewhat easy</td>\n",
       "      <td>Maybe</td>\n",
       "      <td>No</td>\n",
       "      <td>4</td>\n",
       "      <td>No</td>\n",
       "      <td>No</td>\n",
       "      <td>NaN</td>\n",
       "    </tr>\n",
       "    <tr>\n",
       "      <th>69</th>\n",
       "      <td>28</td>\n",
       "      <td>female</td>\n",
       "      <td>Germany</td>\n",
       "      <td>0</td>\n",
       "      <td>Yes</td>\n",
       "      <td>1</td>\n",
       "      <td>26-100</td>\n",
       "      <td>0.0</td>\n",
       "      <td>1.0</td>\n",
       "      <td>Somewhat easy</td>\n",
       "      <td>Maybe</td>\n",
       "      <td>Maybe</td>\n",
       "      <td>8</td>\n",
       "      <td>Possibly</td>\n",
       "      <td>Possibly</td>\n",
       "      <td>NaN</td>\n",
       "    </tr>\n",
       "    <tr>\n",
       "      <th>15</th>\n",
       "      <td>22</td>\n",
       "      <td>male</td>\n",
       "      <td>Mongolia</td>\n",
       "      <td>1</td>\n",
       "      <td>Yes</td>\n",
       "      <td>0</td>\n",
       "      <td>NaN</td>\n",
       "      <td>NaN</td>\n",
       "      <td>NaN</td>\n",
       "      <td>NaN</td>\n",
       "      <td>NaN</td>\n",
       "      <td>NaN</td>\n",
       "      <td>2</td>\n",
       "      <td>Yes</td>\n",
       "      <td>Yes</td>\n",
       "      <td>Yes</td>\n",
       "    </tr>\n",
       "    <tr>\n",
       "      <th>...</th>\n",
       "      <td>...</td>\n",
       "      <td>...</td>\n",
       "      <td>...</td>\n",
       "      <td>...</td>\n",
       "      <td>...</td>\n",
       "      <td>...</td>\n",
       "      <td>...</td>\n",
       "      <td>...</td>\n",
       "      <td>...</td>\n",
       "      <td>...</td>\n",
       "      <td>...</td>\n",
       "      <td>...</td>\n",
       "      <td>...</td>\n",
       "      <td>...</td>\n",
       "      <td>...</td>\n",
       "      <td>...</td>\n",
       "    </tr>\n",
       "    <tr>\n",
       "      <th>113</th>\n",
       "      <td>27</td>\n",
       "      <td>Male</td>\n",
       "      <td>United States of America</td>\n",
       "      <td>0</td>\n",
       "      <td>No</td>\n",
       "      <td>0</td>\n",
       "      <td>500-1000</td>\n",
       "      <td>0.0</td>\n",
       "      <td>1.0</td>\n",
       "      <td>Somewhat easy</td>\n",
       "      <td>No</td>\n",
       "      <td>No</td>\n",
       "      <td>5</td>\n",
       "      <td>No</td>\n",
       "      <td>No</td>\n",
       "      <td>NaN</td>\n",
       "    </tr>\n",
       "    <tr>\n",
       "      <th>60</th>\n",
       "      <td>33</td>\n",
       "      <td>FEMALE</td>\n",
       "      <td>United States of America</td>\n",
       "      <td>0</td>\n",
       "      <td>Yes</td>\n",
       "      <td>1</td>\n",
       "      <td>500-1000</td>\n",
       "      <td>0.0</td>\n",
       "      <td>1.0</td>\n",
       "      <td>Somewhat easy</td>\n",
       "      <td>Yes</td>\n",
       "      <td>Yes</td>\n",
       "      <td>8</td>\n",
       "      <td>Yes</td>\n",
       "      <td>Yes</td>\n",
       "      <td>Yes</td>\n",
       "    </tr>\n",
       "    <tr>\n",
       "      <th>29</th>\n",
       "      <td>33</td>\n",
       "      <td>M</td>\n",
       "      <td>India</td>\n",
       "      <td>0</td>\n",
       "      <td>No</td>\n",
       "      <td>1</td>\n",
       "      <td>500-1000</td>\n",
       "      <td>1.0</td>\n",
       "      <td>1.0</td>\n",
       "      <td>Difficult</td>\n",
       "      <td>No</td>\n",
       "      <td>No</td>\n",
       "      <td>7</td>\n",
       "      <td>No</td>\n",
       "      <td>Possibly</td>\n",
       "      <td>NaN</td>\n",
       "    </tr>\n",
       "    <tr>\n",
       "      <th>51</th>\n",
       "      <td>41</td>\n",
       "      <td>Male</td>\n",
       "      <td>India</td>\n",
       "      <td>0</td>\n",
       "      <td>No</td>\n",
       "      <td>0</td>\n",
       "      <td>More than 1000</td>\n",
       "      <td>0.0</td>\n",
       "      <td>0.0</td>\n",
       "      <td>Somewhat easy</td>\n",
       "      <td>No</td>\n",
       "      <td>No</td>\n",
       "      <td>5</td>\n",
       "      <td>No</td>\n",
       "      <td>Possibly</td>\n",
       "      <td>NaN</td>\n",
       "    </tr>\n",
       "    <tr>\n",
       "      <th>154</th>\n",
       "      <td>42</td>\n",
       "      <td>Male</td>\n",
       "      <td>Spain</td>\n",
       "      <td>0</td>\n",
       "      <td>Yes</td>\n",
       "      <td>1</td>\n",
       "      <td>26-100</td>\n",
       "      <td>1.0</td>\n",
       "      <td>1.0</td>\n",
       "      <td>Very easy</td>\n",
       "      <td>Yes</td>\n",
       "      <td>Yes</td>\n",
       "      <td>10</td>\n",
       "      <td>Yes</td>\n",
       "      <td>Yes</td>\n",
       "      <td>Yes</td>\n",
       "    </tr>\n",
       "  </tbody>\n",
       "</table>\n",
       "<p>20 rows × 16 columns</p>\n",
       "</div>"
      ],
      "text/plain": [
       "     q1      q2                        q3  q5            q6  q7  \\\n",
       "92   40  Female                     India   0  I don't know   0   \n",
       "0    45    Male  United States of America   1           Yes   0   \n",
       "81   29    Male                    Sweden   0            No   0   \n",
       "69   28  female                   Germany   0           Yes   1   \n",
       "15   22    male                  Mongolia   1           Yes   0   \n",
       "..   ..     ...                       ...  ..           ...  ..   \n",
       "113  27    Male  United States of America   0            No   0   \n",
       "60   33  FEMALE  United States of America   0           Yes   1   \n",
       "29   33       M                     India   0            No   1   \n",
       "51   41    Male                     India   0            No   0   \n",
       "154  42    Male                     Spain   0           Yes   1   \n",
       "\n",
       "                 q8   q9  q13            q17    q18    q19  q30         q32  \\\n",
       "92          100-500  1.0  1.0      Difficult    Yes     No    8          No   \n",
       "0               NaN  NaN  NaN            NaN    NaN    NaN    5  Don't Know   \n",
       "81           26-100  1.0  1.0  Somewhat easy  Maybe     No    4          No   \n",
       "69           26-100  0.0  1.0  Somewhat easy  Maybe  Maybe    8    Possibly   \n",
       "15              NaN  NaN  NaN            NaN    NaN    NaN    2         Yes   \n",
       "..              ...  ...  ...            ...    ...    ...  ...         ...   \n",
       "113        500-1000  0.0  1.0  Somewhat easy     No     No    5          No   \n",
       "60         500-1000  0.0  1.0  Somewhat easy    Yes    Yes    8         Yes   \n",
       "29         500-1000  1.0  1.0      Difficult     No     No    7          No   \n",
       "51   More than 1000  0.0  0.0  Somewhat easy     No     No    5          No   \n",
       "154          26-100  1.0  1.0      Very easy    Yes    Yes   10         Yes   \n",
       "\n",
       "            q33  q34  \n",
       "92           No  NaN  \n",
       "0    Don't Know  NaN  \n",
       "81           No  NaN  \n",
       "69     Possibly  NaN  \n",
       "15          Yes  Yes  \n",
       "..          ...  ...  \n",
       "113          No  NaN  \n",
       "60          Yes  Yes  \n",
       "29     Possibly  NaN  \n",
       "51     Possibly  NaN  \n",
       "154         Yes  Yes  \n",
       "\n",
       "[20 rows x 16 columns]"
      ]
     },
     "execution_count": 44,
     "metadata": {},
     "output_type": "execute_result"
    }
   ],
   "source": [
    "survey_2020 = survey_2020[['q1', 'q2', 'q3', 'q5', 'q6', 'q7', 'q8', 'q9', 'q13', 'q17', 'q18', 'q19', 'q30', 'q32', 'q33', 'q34']]\n",
    "survey_2020.sample(20)\n"
   ]
  },
  {
   "cell_type": "markdown",
   "id": "67926bfe",
   "metadata": {},
   "source": [
    "## Plot mental health issues for males and females\n",
    "\n",
    "Att göra: Lowercase på alla genders, allt som inte är male eller female ska bli other eller tas bort."
   ]
  },
  {
   "cell_type": "code",
   "execution_count": 47,
   "id": "1aa2f13a",
   "metadata": {},
   "outputs": [
    {
     "data": {
      "text/plain": [
       "3509      male\n",
       "1839      male\n",
       "758       male\n",
       "4006      male\n",
       "1111      male\n",
       "         ...  \n",
       "3393      male\n",
       "4182    female\n",
       "2231      male\n",
       "1670      male\n",
       "2219      male\n",
       "Name: q2, Length: 20, dtype: object"
      ]
     },
     "execution_count": 47,
     "metadata": {},
     "output_type": "execute_result"
    }
   ],
   "source": [
    "surveys['q2'].sample(20)"
   ]
  },
  {
   "cell_type": "code",
   "execution_count": 50,
   "id": "0c025b9c",
   "metadata": {},
   "outputs": [
    {
     "data": {
      "text/plain": [
       "<AxesSubplot:>"
      ]
     },
     "execution_count": 50,
     "metadata": {},
     "output_type": "execute_result"
    },
    {
     "data": {
      "image/png": "[encoded data removed]",
      "text/plain": [
       "<Figure size 432x288 with 1 Axes>"
      ]
     },
     "metadata": {
      "needs_background": "light"
     },
     "output_type": "display_data"
    }
   ],
   "source": [
    "surveys['q2'].value_counts().plot(kind='bar')"
   ]
  },
  {
   "cell_type": "code",
   "execution_count": 51,
   "id": "ec2f8d3e",
   "metadata": {},
   "outputs": [
    {
     "data": {
      "text/plain": [
       "male      3043\n",
       "female    1024\n",
       "other      151\n",
       "Name: q2, dtype: int64"
      ]
     },
     "execution_count": 51,
     "metadata": {},
     "output_type": "execute_result"
    }
   ],
   "source": []
  },
  {
   "cell_type": "code",
   "execution_count": null,
   "id": "6d0b0eda",
   "metadata": {},
   "outputs": [],
   "source": []
  }
 ],
 "metadata": {
  "kernelspec": {
   "display_name": "Python 3",
   "language": "python",
   "name": "python3"
  },
  "language_info": {
   "codemirror_mode": {
    "name": "ipython",
    "version": 3
   },
   "file_extension": ".py",
   "mimetype": "text/x-python",
   "name": "python",
   "nbconvert_exporter": "python",
   "pygments_lexer": "ipython3",
   "version": "3.8.8"
  }
 },
 "nbformat": 4,
 "nbformat_minor": 5
}
