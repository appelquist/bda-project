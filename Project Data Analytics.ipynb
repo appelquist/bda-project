{
 "cells": [
  {
   "cell_type": "code",
   "execution_count": 33,
   "id": "590eb1c3",
   "metadata": {},
   "outputs": [],
   "source": [
    "import pandas as pd\n",
    "import numpy as np\n",
    "import matplotlib.pyplot as plt"
   ]
  },
  {
   "cell_type": "code",
   "execution_count": 34,
   "id": "eab92ab2",
   "metadata": {},
   "outputs": [],
   "source": [
    "answers = pd.read_csv('./data/Answer.csv')\n",
    "survey_2020 = pd.read_csv('./data/2020-survey.csv')\n",
    "correct_columns = [1, 2, 3, 5, 6, 7, 8, 9, 13, 17, 18, 19, 30, 32, 33, 34, 93, 97, 99, 100, 117, 118]"
   ]
  },
  {
   "cell_type": "code",
   "execution_count": 35,
   "id": "092ad4fb",
   "metadata": {},
   "outputs": [],
   "source": [
    "unused_questions_removed = survey_2020.columns[survey_2020.columns.str.startswith('q')]\n",
    "survey_2020 = survey_2020[unused_questions_removed]\n"
   ]
  },
  {
   "cell_type": "markdown",
   "id": "304c8de0",
   "metadata": {},
   "source": [
    "## Filter out unrelevant questions"
   ]
  },
  {
   "cell_type": "code",
   "execution_count": 36,
   "id": "f84919ec",
   "metadata": {},
   "outputs": [],
   "source": [
    "answers = answers[answers['QuestionID'].isin(correct_columns)]"
   ]
  },
  {
   "cell_type": "markdown",
   "id": "0497b3e8",
   "metadata": {},
   "source": [
    "## Create survey DataFrame\n",
    "\n",
    "We want a data frame where each row will represent one users answers to one survey. We create a empty DataFrame and fill it out with one row for each unique UserID found in the answers table."
   ]
  },
  {
   "cell_type": "code",
   "execution_count": 37,
   "id": "78b8cbf0",
   "metadata": {},
   "outputs": [],
   "source": [
    "surveys = pd.DataFrame(columns=['q1', 'q2', 'q3', 'q5', 'q6', 'q7', 'q8', 'q9', 'q13', 'q17', 'q18', 'q19', 'q30', 'q32', 'q33', 'q34', 'q93', 'q97', 'q99', 'q100', 'q117', 'q118' 'Year'])\n",
    "user_ids = answers['UserID'].unique()\n",
    "surveys['UserID'] = user_ids"
   ]
  },
  {
   "cell_type": "markdown",
   "id": "5cf83a2a",
   "metadata": {},
   "source": [
    "In order to fill out the survey DataFrame we have to iterate through each row in the answers table and set the values in the corresponding row in surveys."
   ]
  },
  {
   "cell_type": "code",
   "execution_count": 38,
   "id": "0c2a348e",
   "metadata": {},
   "outputs": [],
   "source": [
    "for answer in answers.iterrows():\n",
    "    user_id = answer[1][2]\n",
    "    question_id = 'q' + str(answer[1][3])\n",
    "    answer_text = answer[1][0]\n",
    "    year = answer[1][1]\n",
    "    surveys.at[user_id - 1, question_id] = answer_text\n",
    "    surveys.at[user_id - 1, 'Year'] = year\n",
    "        \n",
    "    "
   ]
  },
  {
   "cell_type": "markdown",
   "id": "021cc542",
   "metadata": {},
   "source": [
    "Some questions are very similar but does only exists in some years, we choose to combine these questions."
   ]
  },
  {
   "cell_type": "code",
   "execution_count": 39,
   "id": "263958f3",
   "metadata": {},
   "outputs": [],
   "source": [
    "surveys['q17'] = surveys['q17'].combine_first(surveys['q97'])\n",
    "surveys['q18'] = surveys['q18'].combine_first(surveys['q99'])\n",
    "surveys['q19'] = surveys['q19'].combine_first(surveys['q100'])\n",
    "\n",
    "surveys = surveys.drop(['q97', 'q99', 'q100'], axis = 1)\n"
   ]
  },
  {
   "cell_type": "markdown",
   "id": "d5531437",
   "metadata": {},
   "source": [
    "## Pre-processing\n"
   ]
  },
  {
   "cell_type": "markdown",
   "id": "43695f28",
   "metadata": {},
   "source": [
    "Making \"Male\" = \"male\" and \"Female\" = \"female\":"
   ]
  },
  {
   "cell_type": "code",
   "execution_count": 40,
   "id": "1bd9ae38",
   "metadata": {},
   "outputs": [
    {
     "name": "stdout",
     "output_type": "stream",
     "text": [
      "Male                           2830\n",
      "Female                          914\n",
      "male                            212\n",
      "female                          110\n",
      "-1                               24\n",
      "                               ... \n",
      "femmina                           1\n",
      "transgender                       1\n",
      "Androgynous                       1\n",
      "Female-ish                        1\n",
      "Non-binary and gender fluid       1\n",
      "Name: q2, Length: 101, dtype: int64\n"
     ]
    },
    {
     "data": {
      "text/plain": [
       "male                3043\n",
       "female              1024\n",
       "-1                    24\n",
       "nonbinary              9\n",
       "non-binary             9\n",
       "                    ... \n",
       "nah                    1\n",
       "androgynous            1\n",
       "ostensibly male        1\n",
       "trans-female           1\n",
       "woman-identified       1\n",
       "Name: q2, Length: 87, dtype: int64"
      ]
     },
     "execution_count": 40,
     "metadata": {},
     "output_type": "execute_result"
    }
   ],
   "source": [
    "gender_values = surveys['q2'].value_counts()\n",
    "print(gender_values)\n",
    "\n",
    "surveys['q2'] = surveys['q2'].str.lower()\n",
    "gender_values = surveys['q2'].value_counts()\n",
    "gender_values"
   ]
  },
  {
   "cell_type": "markdown",
   "id": "7f0a0c98",
   "metadata": {},
   "source": [
    "Seting all other values to 'other':"
   ]
  },
  {
   "cell_type": "code",
   "execution_count": 41,
   "id": "b54552d8",
   "metadata": {},
   "outputs": [
    {
     "data": {
      "text/plain": [
       "male      3043\n",
       "female    1024\n",
       "other      151\n",
       "Name: q2, dtype: int64"
      ]
     },
     "execution_count": 41,
     "metadata": {},
     "output_type": "execute_result"
    }
   ],
   "source": [
    "surveys['q2'] = np.where(((surveys.q2 != 'male') & (surveys.q2 != 'female')),'other',surveys.q2)\n",
    "gender_values = surveys['q2'].value_counts()\n",
    "gender_values"
   ]
  },
  {
   "cell_type": "markdown",
   "id": "8b938684",
   "metadata": {},
   "source": [
    "Make 'United States' = 'United States of America'"
   ]
  },
  {
   "cell_type": "code",
   "execution_count": 50,
   "id": "b6b20d8c",
   "metadata": {},
   "outputs": [
    {
     "name": "stdout",
     "output_type": "stream",
     "text": [
      "United States             2604\n",
      "United Kingdom             482\n",
      "Canada                     199\n",
      "Germany                    136\n",
      "Netherlands                 98\n",
      "Australia                   73\n",
      "France                      51\n",
      "Ireland                     51\n",
      "India                       50\n",
      "Brazil                      37\n",
      "Sweden                      29\n",
      "Switzerland                 28\n",
      "Spain                       26\n",
      "New Zealand                 24\n",
      "Portugal                    23\n",
      "Poland                      21\n",
      "Italy                       19\n",
      "Belgium                     17\n",
      "Russia                      16\n",
      "South Africa                16\n",
      "Finland                     13\n",
      "Bulgaria                    13\n",
      "Mexico                      12\n",
      "Norway                      12\n",
      "Austria                     10\n",
      "Japan                        9\n",
      "Denmark                      9\n",
      "Israel                       9\n",
      "Romania                      9\n",
      "Pakistan                     7\n",
      "Greece                       7\n",
      "Czech Republic               6\n",
      "Colombia                     6\n",
      "Singapore                    5\n",
      "Turkey                       5\n",
      "Estonia                      5\n",
      "Croatia                      4\n",
      "Serbia                       4\n",
      "Argentina                    4\n",
      "Hungary                      4\n",
      "Bangladesh                   3\n",
      "Chile                        3\n",
      "Ukraine                      3\n",
      "Bosnia and Herzegovina       3\n",
      "Afghanistan                  3\n",
      "Indonesia                    3\n",
      "Other                        2\n",
      "Costa Rica                   2\n",
      "Iceland                      2\n",
      "Georgia                      2\n",
      "Algeria                      2\n",
      "China                        2\n",
      "-1                           2\n",
      "Uruguay                      2\n",
      "Lithuania                    2\n",
      "Hong Kong                    2\n",
      "Nigeria                      2\n",
      "Latvia                       2\n",
      "Slovakia                     2\n",
      "Mauritius                    1\n",
      "Ethiopia                     1\n",
      "Ghana                        1\n",
      "Venezuela                    1\n",
      "Jordan                       1\n",
      "Thailand                     1\n",
      "Guatemala                    1\n",
      "Moldova                      1\n",
      "Saudi Arabia                 1\n",
      "Belarus                      1\n",
      "Brunei                       1\n",
      "Macedonia                    1\n",
      "Vietnam                      1\n",
      "Zimbabwe                     1\n",
      "Slovenia                     1\n",
      "Iran                         1\n",
      "Kenya                        1\n",
      "Taiwan                       1\n",
      "Philippines                  1\n",
      "Bahamas, The                 1\n",
      "Ecuador                      1\n",
      "Name: q3, dtype: int64\n"
     ]
    },
    {
     "data": {
      "text/plain": [
       "United States             2604\n",
       "United Kingdom             482\n",
       "Canada                     199\n",
       "Germany                    136\n",
       "Netherlands                 98\n",
       "Australia                   73\n",
       "France                      51\n",
       "Ireland                     51\n",
       "India                       50\n",
       "Brazil                      37\n",
       "Sweden                      29\n",
       "Switzerland                 28\n",
       "Spain                       26\n",
       "New Zealand                 24\n",
       "Portugal                    23\n",
       "Poland                      21\n",
       "Italy                       19\n",
       "Belgium                     17\n",
       "Russia                      16\n",
       "South Africa                16\n",
       "Finland                     13\n",
       "Bulgaria                    13\n",
       "Mexico                      12\n",
       "Norway                      12\n",
       "Austria                     10\n",
       "Japan                        9\n",
       "Denmark                      9\n",
       "Israel                       9\n",
       "Romania                      9\n",
       "Pakistan                     7\n",
       "Greece                       7\n",
       "Czech Republic               6\n",
       "Colombia                     6\n",
       "Singapore                    5\n",
       "Turkey                       5\n",
       "Estonia                      5\n",
       "Croatia                      4\n",
       "Serbia                       4\n",
       "Argentina                    4\n",
       "Hungary                      4\n",
       "Bangladesh                   3\n",
       "Chile                        3\n",
       "Ukraine                      3\n",
       "Bosnia and Herzegovina       3\n",
       "Afghanistan                  3\n",
       "Indonesia                    3\n",
       "Other                        2\n",
       "Costa Rica                   2\n",
       "Iceland                      2\n",
       "Georgia                      2\n",
       "Algeria                      2\n",
       "China                        2\n",
       "-1                           2\n",
       "Uruguay                      2\n",
       "Lithuania                    2\n",
       "Hong Kong                    2\n",
       "Nigeria                      2\n",
       "Latvia                       2\n",
       "Slovakia                     2\n",
       "Mauritius                    1\n",
       "Ethiopia                     1\n",
       "Ghana                        1\n",
       "Venezuela                    1\n",
       "Jordan                       1\n",
       "Thailand                     1\n",
       "Guatemala                    1\n",
       "Moldova                      1\n",
       "Saudi Arabia                 1\n",
       "Belarus                      1\n",
       "Brunei                       1\n",
       "Macedonia                    1\n",
       "Vietnam                      1\n",
       "Zimbabwe                     1\n",
       "Slovenia                     1\n",
       "Iran                         1\n",
       "Kenya                        1\n",
       "Taiwan                       1\n",
       "Philippines                  1\n",
       "Bahamas, The                 1\n",
       "Ecuador                      1\n",
       "Name: q3, dtype: int64"
      ]
     },
     "execution_count": 50,
     "metadata": {},
     "output_type": "execute_result"
    }
   ],
   "source": [
    "country_values = surveys['q3'].value_counts()\n",
    "print(country_values)\n",
    "surveys['q3'] = np.where((surveys.q3 == 'United States of America'),'United States',surveys.q3)\n",
    "country_values = surveys['q3'].value_counts()\n",
    "country_values"
   ]
  },
  {
   "cell_type": "markdown",
   "id": "729c7f5c",
   "metadata": {},
   "source": [
    "Make 'Maybe' = 'Possibly'\n"
   ]
  },
  {
   "cell_type": "code",
   "execution_count": 78,
   "id": "230ebf88",
   "metadata": {},
   "outputs": [
    {
     "name": "stdout",
     "output_type": "stream",
     "text": [
      "Yes           1237\n",
      "No             969\n",
      "Maybe          327\n",
      "Possibly       301\n",
      "Don't Know     124\n",
      "Name: q33, dtype: int64\n"
     ]
    },
    {
     "data": {
      "text/plain": [
       "Yes           1237\n",
       "No             969\n",
       "Maybe          628\n",
       "Don't Know     124\n",
       "Name: q33, dtype: int64"
      ]
     },
     "execution_count": 78,
     "metadata": {},
     "output_type": "execute_result"
    }
   ],
   "source": [
    "q33_values = surveys['q33'].value_counts()\n",
    "print(q33_values)\n",
    "surveys['q33'] = np.where((surveys.q33 == 'Possibly'),'Maybe',surveys.q33)\n",
    "country_values = surveys['q33'].value_counts()\n",
    "country_values"
   ]
  },
  {
   "cell_type": "markdown",
   "id": "9f5e8898",
   "metadata": {},
   "source": [
    "## Pre process 2020 survey\n",
    "In order to concat the 2020 survey to our surveys DataFrame we have to do some pre processing."
   ]
  },
  {
   "cell_type": "code",
   "execution_count": 8,
   "id": "668140fe",
   "metadata": {},
   "outputs": [],
   "source": [
    "survey_2020 = survey_2020[['q1', 'q2', 'q3', 'q5', 'q6', 'q7', 'q8', 'q9', 'q13', 'q17', 'q18', 'q19', 'q30', 'q32', 'q33', 'q34']]\n"
   ]
  },
  {
   "cell_type": "markdown",
   "id": "d826be5e",
   "metadata": {},
   "source": [
    "## Negative age values\n",
    "Some age values are negative, there fore those entries will be changed to positive."
   ]
  },
  {
   "cell_type": "code",
   "execution_count": 9,
   "id": "b5f876a7",
   "metadata": {},
   "outputs": [],
   "source": [
    "surveys['q1'] = surveys['q1'].str.replace('-','')"
   ]
  },
  {
   "cell_type": "markdown",
   "id": "67926bfe",
   "metadata": {},
   "source": [
    "## Plot mental health issues for males and females\n",
    "\n",
    "Att göra: Lowercase på alla genders, allt som inte är male eller female ska bli other eller tas bort."
   ]
  },
  {
   "cell_type": "code",
   "execution_count": 331,
   "id": "1aa2f13a",
   "metadata": {},
   "outputs": [
    {
     "data": {
      "text/plain": [
       "3587                    Nonbinary\n",
       "3744                       Female\n",
       "2400                      Unicorn\n",
       "3910                         Male\n",
       "350                          Male\n",
       "2747                         male\n",
       "1545                         Male\n",
       "1713                         Male\n",
       "1722                         Male\n",
       "1145                       Female\n",
       "1031                         Male\n",
       "3593    Male (or female, or both)\n",
       "466                          Male\n",
       "3811                         Male\n",
       "3463                       female\n",
       "76                           Male\n",
       "2264             Male/genderqueer\n",
       "3092                         Male\n",
       "3685                         Male\n",
       "1284                         Male\n",
       "Name: q2, dtype: object"
      ]
     },
     "execution_count": 331,
     "metadata": {},
     "output_type": "execute_result"
    }
   ],
   "source": [
    "surveys['q2'].sample(20)"
   ]
  },
  {
   "cell_type": "code",
   "execution_count": null,
   "id": "0c025b9c",
   "metadata": {},
   "outputs": [],
   "source": [
    "data = {'Gender': ['Male','Female', 'Other'],\n",
    "        'GDP_Per_Capita': [45000,42000,52000,49000,47000]\n",
    "       }\n",
    "  \n",
    "df = pd.DataFrame(data,columns=['Country','GDP_Per_Capita'])\n",
    "df.plot(x ='Country', y='GDP_Per_Capita', kind = 'bar')\n",
    "plt.show()"
   ]
  }
 ],
 "metadata": {
  "kernelspec": {
   "display_name": "Python 3",
   "language": "python",
   "name": "python3"
  },
  "language_info": {
   "codemirror_mode": {
    "name": "ipython",
    "version": 3
   },
   "file_extension": ".py",
   "mimetype": "text/x-python",
   "name": "python",
   "nbconvert_exporter": "python",
   "pygments_lexer": "ipython3",
   "version": "3.8.8"
  }
 },
 "nbformat": 4,
 "nbformat_minor": 5
}
